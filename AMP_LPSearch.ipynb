{
  "nbformat": 4,
  "nbformat_minor": 0,
  "metadata": {
    "colab": {
      "provenance": [],
      "mount_file_id": "13aTZHrb9VIPSZ9NXHCPBATfEws34eVLE",
      "authorship_tag": "ABX9TyOcvoA2/MMgQEAQv/ivB2KT",
      "include_colab_link": true
    },
    "kernelspec": {
      "name": "python3",
      "display_name": "Python 3"
    },
    "language_info": {
      "name": "python"
    }
  },
  "cells": [
    {
      "cell_type": "markdown",
      "metadata": {
        "id": "view-in-github",
        "colab_type": "text"
      },
      "source": [
        "<a href=\"https://colab.research.google.com/github/kunai-3txk/Compe_tonyobyo/blob/main/AMP_LPSearch.ipynb\" target=\"_parent\"><img src=\"https://colab.research.google.com/assets/colab-badge.svg\" alt=\"Open In Colab\"/></a>"
      ]
    },
    {
      "cell_type": "code",
      "source": [
        "import numpy as np\n",
        "import pandas as pd\n",
        "import random "
      ],
      "metadata": {
        "id": "SxzBTtG9_juv"
      },
      "execution_count": 8,
      "outputs": []
    },
    {
      "cell_type": "code",
      "execution_count": 2,
      "metadata": {
        "id": "UG6l-22M_W1X"
      },
      "outputs": [],
      "source": [
        "def score_cal(y_true, y_pred):\n",
        "    smap = np.zeros(len(y_true))\n",
        "    num = np.abs(y_true - y_pred)\n",
        "    dem = ((np.abs(y_true) + np.abs(y_pred)) / 2)\n",
        "    pos_ind = (y_true!=0)|(y_pred!=0)\n",
        "    smap[pos_ind] = num[pos_ind] / dem[pos_ind]\n",
        "    ret = 100 * np.mean(smap)\n",
        "    return ret"
      ]
    },
    {
      "cell_type": "code",
      "source": [
        "ALL_RATE = 5.0\n",
        "SUB_SCORE = 97"
      ],
      "metadata": {
        "id": "Ar-7ukcEOwVa"
      },
      "execution_count": 103,
      "outputs": []
    },
    {
      "cell_type": "code",
      "source": [
        "sub = pd.read_csv('/content/drive/MyDrive/AMP/submission/submission.csv')\n",
        "sub.head()\n",
        "\n",
        "sub['rating'] = ALL_RATE\n",
        "predict = sub['rating'].values"
      ],
      "metadata": {
        "id": "1CiGXUiXN1LT"
      },
      "execution_count": 104,
      "outputs": []
    },
    {
      "cell_type": "code",
      "source": [
        "def loop():\n",
        "    for n in range(10000):\n",
        "      true_list = []\n",
        "\n",
        "      true_list += [random.randint(0, 52) for i in range(4)]\n",
        "      true_list += [random.randint(0, 52) for i in range(4)]\n",
        "      true_list += [random.randint(0, 132) for i in range(4)]\n",
        "      true_list += [random.randint(0, 24) for i in range(4)]\n",
        "      true_list += [random.randint(0, 52) for i in range(4)]\n",
        "      true_list += [random.randint(0, 52) for i in range(4)]\n",
        "      true_list += [random.randint(0, 132) for i in range(4)]\n",
        "      true_list += [random.randint(0, 24) for i in range(4)]\n",
        "      true_list += [random.randint(0, 52) for i in range(4)]\n",
        "      true_list += [random.randint(0, 52) for i in range(4)]\n",
        "      true_list += [random.randint(0, 132) for i in range(4)]\n",
        "      true_list += [random.randint(0, 24) for i in range(4)]\n",
        "      true_list += [random.randint(0, 52) for i in range(4)]\n",
        "      true_list += [random.randint(0, 52) for i in range(4)]\n",
        "      true_list += [random.randint(0, 132) for i in range(4)]\n",
        "      true_list += [random.randint(0, 24) for i in range(4)]\n",
        "\n",
        "      true = np.array(true_list)\n",
        "      #len(true_list),len(predict)\n",
        "\n",
        "      choice_list = random.sample(range(63), k=8)\n",
        "\n",
        "      true_choice = []\n",
        "      predict_choice = []\n",
        "      for i in choice_list:\n",
        "        true_choice.append(true[i])\n",
        "        predict_choice.append(predict[i])\n",
        "\n",
        "      score = round(score_cal(np.array(true_choice),np.array(predict_choice)),0)\n",
        "\n",
        "      if score == SUB_SCORE:\n",
        "        save_true_list = true_list\n",
        "        save_choice_list = choice_list\n",
        "        print('set_end',n)\n",
        "        summary = sub.join(pd.DataFrame(save_true_list))\n",
        "        summary_choice = summary.iloc[save_choice_list,:].sort_index()\n",
        "        score_sum = summary_choice.sum()[0]\n",
        "    return summary,summary_choice,score_sum"
      ],
      "metadata": {
        "id": "pgwRDwfC_2RM"
      },
      "execution_count": 116,
      "outputs": []
    }
  ]
}
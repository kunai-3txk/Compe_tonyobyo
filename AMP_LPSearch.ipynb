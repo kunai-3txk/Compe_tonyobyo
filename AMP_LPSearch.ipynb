{
  "nbformat": 4,
  "nbformat_minor": 0,
  "metadata": {
    "colab": {
      "provenance": [],
      "mount_file_id": "https://github.com/kunai-3txk/Compe_tonyobyo/blob/main/AMP_LPSearch.ipynb",
      "authorship_tag": "ABX9TyOpX2V8up415DTGoUXiUsg9",
      "include_colab_link": true
    },
    "kernelspec": {
      "name": "python3",
      "display_name": "Python 3"
    },
    "language_info": {
      "name": "python"
    }
  },
  "cells": [
    {
      "cell_type": "markdown",
      "metadata": {
        "id": "view-in-github",
        "colab_type": "text"
      },
      "source": [
        "<a href=\"https://colab.research.google.com/github/kunai-3txk/Compe_tonyobyo/blob/main/AMP_LPSearch.ipynb\" target=\"_parent\"><img src=\"https://colab.research.google.com/assets/colab-badge.svg\" alt=\"Open In Colab\"/></a>"
      ]
    },
    {
      "cell_type": "code",
      "source": [
        "import numpy as np\n",
        "import pandas as pd\n",
        "import random "
      ],
      "metadata": {
        "id": "SxzBTtG9_juv"
      },
      "execution_count": 1,
      "outputs": []
    },
    {
      "cell_type": "code",
      "execution_count": 2,
      "metadata": {
        "id": "UG6l-22M_W1X"
      },
      "outputs": [],
      "source": [
        "def score_cal(y_true, y_pred):\n",
        "    smap = np.zeros(len(y_true))\n",
        "    num = np.abs(y_true - y_pred)\n",
        "    dem = ((np.abs(y_true) + np.abs(y_pred)) / 2)\n",
        "    pos_ind = (y_true!=0)|(y_pred!=0)\n",
        "    smap[pos_ind] = num[pos_ind] / dem[pos_ind]\n",
        "    ret = 100 * np.mean(smap)\n",
        "    return ret"
      ]
    },
    {
      "cell_type": "code",
      "source": [
        "#ALL_RATE_A = 5.0\n",
        "#ALL_RATE_B = 1.0\n",
        "\n",
        "SUB_SCORE_A = 74\n",
        "SUB_SCORE_B = 109\n",
        "SUB_SCORE_C = 71"
      ],
      "metadata": {
        "id": "Ar-7ukcEOwVa"
      },
      "execution_count": 3,
      "outputs": []
    },
    {
      "cell_type": "code",
      "source": [
        "def search(df_sub,sub_score):\n",
        "    #for n in range(10000):\n",
        "    _counter = 0\n",
        "    #df_sub['rating'] = all_rate\n",
        "    predict = df_sub['rating'].values\n",
        "\n",
        "    while True:\n",
        "      _true_list = []\n",
        "      #******************************************************\n",
        "      _true_list += [random.randint(0, 33) for i in range(4)]\n",
        "      _true_list += [random.randint(0, 40) for i in range(4)]\n",
        "      _true_list += [random.randint(0, 86) for i in range(4)]\n",
        "      _true_list += [random.randint(0, 20) for i in range(4)]\n",
        "      # _true_list += [random.randint(0, 52) for i in range(4)]\n",
        "      # _true_list += [random.randint(0, 52) for i in range(4)]\n",
        "      # _true_list += [random.randint(0, 132) for i in range(4)]\n",
        "      # _true_list += [random.randint(0, 24) for i in range(4)]\n",
        "      #******************************************************\n",
        "\n",
        "      _true = np.array(_true_list)\n",
        "      #len(true_list),len(predict)\n",
        "  \n",
        "      _choice_list = []\n",
        "      #_choice_list = random.sample(range(15), k=8)\n",
        "      _choice_list+=random.sample(range(0,4), k=2)\n",
        "      _choice_list+=random.sample(range(4,8), k=2)\n",
        "      _choice_list+=random.sample(range(8,12), k=2)\n",
        "      _choice_list+=random.sample(range(12,16), k=2)\n",
        "\n",
        "      _true_choice = []\n",
        "      _predict_choice = []\n",
        "      for _i in _choice_list:\n",
        "        _true_choice.append(_true[_i])\n",
        "        _predict_choice.append(predict[_i])\n",
        "\n",
        "      _score = round(score_cal(np.array(_true_choice),np.array(_predict_choice)),0)\n",
        "\n",
        "      if _score == sub_score:\n",
        "        _save_true_list = _true_list\n",
        "        _save_choice_list = _choice_list\n",
        "        #print('set_end',counter)\n",
        "        _summary = df_sub.join(pd.DataFrame(_save_true_list))\n",
        "        _summary_choice = _summary.iloc[_save_choice_list,:].sort_index()\n",
        "        _score_sum = _summary_choice.sum()[0]\n",
        "        _score_mean = _summary_choice.mean()[0]\n",
        "        _score_max = _summary_choice.max()[0]\n",
        "        break\n",
        "\n",
        "      _counter += 1\n",
        "\n",
        "    return _summary,_summary_choice,_score_sum,_score_mean,_score_max"
      ],
      "metadata": {
        "id": "7piHck-3hC2y"
      },
      "execution_count": 14,
      "outputs": []
    },
    {
      "cell_type": "code",
      "source": [
        "sub_a = pd.read_csv('/content/drive/MyDrive/AMP/submission/sub_a.csv')\n",
        "sub_b = pd.read_csv('/content/drive/MyDrive/AMP/submission/sub_b.csv')\n",
        "sub_c = pd.read_csv('/content/drive/MyDrive/AMP/submission/sub_c.csv')"
      ],
      "metadata": {
        "id": "1CiGXUiXN1LT"
      },
      "execution_count": 5,
      "outputs": []
    },
    {
      "cell_type": "code",
      "source": [
        "match_summary_a=pd.DataFrame()\n",
        "match_summary_b=pd.DataFrame()\n",
        "match_summary_choice_a = []\n",
        "match_summary_choice_b = []\n",
        "\n",
        "while True:\n",
        "  summary_a,summary_choice_a,sum_a,mean_a,max_a = search(sub_a,SUB_SCORE_A)\n",
        "  summary_b,summary_choice_b,sum_b,mean_b,max_b = search(sub_b,SUB_SCORE_B)\n",
        "\n",
        "  if (sum_a == sum_b) & (mean_a == mean_b) & (max_a == max_b): \n",
        "    print('1st sum:',sum_a)\n",
        "    for n in range(10000):\n",
        "      summary_c,summary_choice_c,sum_c,mean_c,max_c = search(sub_c,SUB_SCORE_C)\n",
        "      if (sum_a == sum_c) & (sum_a == mean_c) & (max_a == max_c): \n",
        "        print('2nd sum:',sum_c)\n",
        "        match_summary_a=summary_a\n",
        "        match_summary_b=summary_b\n",
        "        match_summary_c=summary_c\n",
        "        match_summary_choice_a=summary_choice_a\n",
        "        match_summary_choice_b=summary_choice_b\n",
        "        match_summary_choice_c=summary_choice_c\n",
        "        break\n",
        "    break\n",
        "\n",
        "display(match_summary_choice_a)\n",
        "display(match_summary_choice_b)\n",
        "display(match_summary_choice_c)"
      ],
      "metadata": {
        "colab": {
          "base_uri": "https://localhost:8080/",
          "height": 274
        },
        "id": "xaFE-zBkeB2t",
        "outputId": "c30e6bfb-23a4-4a46-f077-86f5ce26e456"
      },
      "execution_count": 17,
      "outputs": [
        {
          "output_type": "execute_result",
          "data": {
            "text/plain": [
              "                    prediction_id  rating   0\n",
              "2   3342_0_updrs_1_plus_12_months      20   2\n",
              "3   3342_0_updrs_1_plus_24_months      20   2\n",
              "4    3342_0_updrs_2_plus_0_months      22  31\n",
              "6   3342_0_updrs_2_plus_12_months      22  12\n",
              "9    3342_0_updrs_3_plus_6_months      40   0\n",
              "11  3342_0_updrs_3_plus_24_months      40  65\n",
              "13   3342_0_updrs_4_plus_6_months       5  12\n",
              "15  3342_0_updrs_4_plus_24_months       5  20"
            ],
            "text/html": [
              "\n",
              "  <div id=\"df-a15b4ab8-9e29-42cf-b35c-28724cf7cb2e\">\n",
              "    <div class=\"colab-df-container\">\n",
              "      <div>\n",
              "<style scoped>\n",
              "    .dataframe tbody tr th:only-of-type {\n",
              "        vertical-align: middle;\n",
              "    }\n",
              "\n",
              "    .dataframe tbody tr th {\n",
              "        vertical-align: top;\n",
              "    }\n",
              "\n",
              "    .dataframe thead th {\n",
              "        text-align: right;\n",
              "    }\n",
              "</style>\n",
              "<table border=\"1\" class=\"dataframe\">\n",
              "  <thead>\n",
              "    <tr style=\"text-align: right;\">\n",
              "      <th></th>\n",
              "      <th>prediction_id</th>\n",
              "      <th>rating</th>\n",
              "      <th>0</th>\n",
              "    </tr>\n",
              "  </thead>\n",
              "  <tbody>\n",
              "    <tr>\n",
              "      <th>2</th>\n",
              "      <td>3342_0_updrs_1_plus_12_months</td>\n",
              "      <td>20</td>\n",
              "      <td>2</td>\n",
              "    </tr>\n",
              "    <tr>\n",
              "      <th>3</th>\n",
              "      <td>3342_0_updrs_1_plus_24_months</td>\n",
              "      <td>20</td>\n",
              "      <td>2</td>\n",
              "    </tr>\n",
              "    <tr>\n",
              "      <th>4</th>\n",
              "      <td>3342_0_updrs_2_plus_0_months</td>\n",
              "      <td>22</td>\n",
              "      <td>31</td>\n",
              "    </tr>\n",
              "    <tr>\n",
              "      <th>6</th>\n",
              "      <td>3342_0_updrs_2_plus_12_months</td>\n",
              "      <td>22</td>\n",
              "      <td>12</td>\n",
              "    </tr>\n",
              "    <tr>\n",
              "      <th>9</th>\n",
              "      <td>3342_0_updrs_3_plus_6_months</td>\n",
              "      <td>40</td>\n",
              "      <td>0</td>\n",
              "    </tr>\n",
              "    <tr>\n",
              "      <th>11</th>\n",
              "      <td>3342_0_updrs_3_plus_24_months</td>\n",
              "      <td>40</td>\n",
              "      <td>65</td>\n",
              "    </tr>\n",
              "    <tr>\n",
              "      <th>13</th>\n",
              "      <td>3342_0_updrs_4_plus_6_months</td>\n",
              "      <td>5</td>\n",
              "      <td>12</td>\n",
              "    </tr>\n",
              "    <tr>\n",
              "      <th>15</th>\n",
              "      <td>3342_0_updrs_4_plus_24_months</td>\n",
              "      <td>5</td>\n",
              "      <td>20</td>\n",
              "    </tr>\n",
              "  </tbody>\n",
              "</table>\n",
              "</div>\n",
              "      <button class=\"colab-df-convert\" onclick=\"convertToInteractive('df-a15b4ab8-9e29-42cf-b35c-28724cf7cb2e')\"\n",
              "              title=\"Convert this dataframe to an interactive table.\"\n",
              "              style=\"display:none;\">\n",
              "        \n",
              "  <svg xmlns=\"http://www.w3.org/2000/svg\" height=\"24px\"viewBox=\"0 0 24 24\"\n",
              "       width=\"24px\">\n",
              "    <path d=\"M0 0h24v24H0V0z\" fill=\"none\"/>\n",
              "    <path d=\"M18.56 5.44l.94 2.06.94-2.06 2.06-.94-2.06-.94-.94-2.06-.94 2.06-2.06.94zm-11 1L8.5 8.5l.94-2.06 2.06-.94-2.06-.94L8.5 2.5l-.94 2.06-2.06.94zm10 10l.94 2.06.94-2.06 2.06-.94-2.06-.94-.94-2.06-.94 2.06-2.06.94z\"/><path d=\"M17.41 7.96l-1.37-1.37c-.4-.4-.92-.59-1.43-.59-.52 0-1.04.2-1.43.59L10.3 9.45l-7.72 7.72c-.78.78-.78 2.05 0 2.83L4 21.41c.39.39.9.59 1.41.59.51 0 1.02-.2 1.41-.59l7.78-7.78 2.81-2.81c.8-.78.8-2.07 0-2.86zM5.41 20L4 18.59l7.72-7.72 1.47 1.35L5.41 20z\"/>\n",
              "  </svg>\n",
              "      </button>\n",
              "      \n",
              "  <style>\n",
              "    .colab-df-container {\n",
              "      display:flex;\n",
              "      flex-wrap:wrap;\n",
              "      gap: 12px;\n",
              "    }\n",
              "\n",
              "    .colab-df-convert {\n",
              "      background-color: #E8F0FE;\n",
              "      border: none;\n",
              "      border-radius: 50%;\n",
              "      cursor: pointer;\n",
              "      display: none;\n",
              "      fill: #1967D2;\n",
              "      height: 32px;\n",
              "      padding: 0 0 0 0;\n",
              "      width: 32px;\n",
              "    }\n",
              "\n",
              "    .colab-df-convert:hover {\n",
              "      background-color: #E2EBFA;\n",
              "      box-shadow: 0px 1px 2px rgba(60, 64, 67, 0.3), 0px 1px 3px 1px rgba(60, 64, 67, 0.15);\n",
              "      fill: #174EA6;\n",
              "    }\n",
              "\n",
              "    [theme=dark] .colab-df-convert {\n",
              "      background-color: #3B4455;\n",
              "      fill: #D2E3FC;\n",
              "    }\n",
              "\n",
              "    [theme=dark] .colab-df-convert:hover {\n",
              "      background-color: #434B5C;\n",
              "      box-shadow: 0px 1px 3px 1px rgba(0, 0, 0, 0.15);\n",
              "      filter: drop-shadow(0px 1px 2px rgba(0, 0, 0, 0.3));\n",
              "      fill: #FFFFFF;\n",
              "    }\n",
              "  </style>\n",
              "\n",
              "      <script>\n",
              "        const buttonEl =\n",
              "          document.querySelector('#df-a15b4ab8-9e29-42cf-b35c-28724cf7cb2e button.colab-df-convert');\n",
              "        buttonEl.style.display =\n",
              "          google.colab.kernel.accessAllowed ? 'block' : 'none';\n",
              "\n",
              "        async function convertToInteractive(key) {\n",
              "          const element = document.querySelector('#df-a15b4ab8-9e29-42cf-b35c-28724cf7cb2e');\n",
              "          const dataTable =\n",
              "            await google.colab.kernel.invokeFunction('convertToInteractive',\n",
              "                                                     [key], {});\n",
              "          if (!dataTable) return;\n",
              "\n",
              "          const docLinkHtml = 'Like what you see? Visit the ' +\n",
              "            '<a target=\"_blank\" href=https://colab.research.google.com/notebooks/data_table.ipynb>data table notebook</a>'\n",
              "            + ' to learn more about interactive tables.';\n",
              "          element.innerHTML = '';\n",
              "          dataTable['output_type'] = 'display_data';\n",
              "          await google.colab.output.renderOutput(dataTable, element);\n",
              "          const docLink = document.createElement('div');\n",
              "          docLink.innerHTML = docLinkHtml;\n",
              "          element.appendChild(docLink);\n",
              "        }\n",
              "      </script>\n",
              "    </div>\n",
              "  </div>\n",
              "  "
            ]
          },
          "metadata": {},
          "execution_count": 17
        }
      ]
    },
    {
      "cell_type": "code",
      "source": [
        "#_choice_list = random.sample(range(15), k=8)\n",
        "\n",
        "_choice_list = []\n",
        "_choice_list.append(random.sample(range(0,4), k=2))\n",
        "_choice_list.append(random.sample(range(4,8), k=2))\n",
        "_choice_list.append(random.sample(range(8,12), k=2))\n",
        "_choice_list.append(random.sample(range(12,16), k=2))\n",
        "\n",
        "\n",
        "_choice_list\n",
        "\n",
        "_choice_list = []\n",
        "_choice_list+=random.sample(range(0,4), k=2)\n",
        "_choice_list+=random.sample(range(4,8), k=2)\n",
        "_choice_list+=random.sample(range(8,12), k=2)\n",
        "_choice_list+=random.sample(range(12,16), k=2)\n",
        "_choice_list"
      ],
      "metadata": {
        "id": "oPyHjH_W7cLc",
        "outputId": "8ee81187-8bcf-4357-fde7-06d2e18415dc",
        "colab": {
          "base_uri": "https://localhost:8080/"
        }
      },
      "execution_count": 13,
      "outputs": [
        {
          "output_type": "execute_result",
          "data": {
            "text/plain": [
              "[3, 2, 7, 4]"
            ]
          },
          "metadata": {},
          "execution_count": 13
        }
      ]
    }
  ]
}
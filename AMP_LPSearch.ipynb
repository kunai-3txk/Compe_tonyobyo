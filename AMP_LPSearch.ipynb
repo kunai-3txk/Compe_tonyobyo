{
  "nbformat": 4,
  "nbformat_minor": 0,
  "metadata": {
    "colab": {
      "provenance": [],
      "mount_file_id": "https://github.com/kunai-3txk/Compe_tonyobyo/blob/main/AMP_LPSearch.ipynb",
      "authorship_tag": "ABX9TyOpX2V8up415DTGoUXiUsg9",
      "include_colab_link": true
    },
    "kernelspec": {
      "name": "python3",
      "display_name": "Python 3"
    },
    "language_info": {
      "name": "python"
    }
  },
  "cells": [
    {
      "cell_type": "markdown",
      "metadata": {
        "id": "view-in-github",
        "colab_type": "text"
      },
      "source": [
        "<a href=\"https://colab.research.google.com/github/kunai-3txk/Compe_tonyobyo/blob/main/AMP_LPSearch.ipynb\" target=\"_parent\"><img src=\"https://colab.research.google.com/assets/colab-badge.svg\" alt=\"Open In Colab\"/></a>"
      ]
    },
    {
      "cell_type": "code",
      "source": [
        "import numpy as np\n",
        "import pandas as pd\n",
        "import random "
      ],
      "metadata": {
        "id": "SxzBTtG9_juv"
      },
      "execution_count": 1,
      "outputs": []
    },
    {
      "cell_type": "code",
      "execution_count": 2,
      "metadata": {
        "id": "UG6l-22M_W1X"
      },
      "outputs": [],
      "source": [
        "def score_cal(y_true, y_pred):\n",
        "    smap = np.zeros(len(y_true))\n",
        "    num = np.abs(y_true - y_pred)\n",
        "    dem = ((np.abs(y_true) + np.abs(y_pred)) / 2)\n",
        "    pos_ind = (y_true!=0)|(y_pred!=0)\n",
        "    smap[pos_ind] = num[pos_ind] / dem[pos_ind]\n",
        "    ret = 100 * np.mean(smap)\n",
        "    return ret"
      ]
    },
    {
      "cell_type": "code",
      "source": [
        "#ALL_RATE_A = 5.0\n",
        "#ALL_RATE_B = 1.0\n",
        "\n",
        "SUB_SCORE_A = 74\n",
        "SUB_SCORE_B = 109\n",
        "SUB_SCORE_C = 71"
      ],
      "metadata": {
        "id": "Ar-7ukcEOwVa"
      },
      "execution_count": 3,
      "outputs": []
    },
    {
      "cell_type": "code",
      "source": [
        "def search(df_sub,sub_score):\n",
        "    #for n in range(10000):\n",
        "    _counter = 0\n",
        "    #df_sub['rating'] = all_rate\n",
        "    predict = df_sub['rating'].values\n",
        "\n",
        "    while True:\n",
        "      _true_list = []\n",
        "      #******************************************************\n",
        "      _true_list += [random.randint(0, 33) for i in range(4)]\n",
        "      _true_list += [random.randint(0, 40) for i in range(4)]\n",
        "      _true_list += [random.randint(0, 86) for i in range(4)]\n",
        "      _true_list += [random.randint(0, 20) for i in range(4)]\n",
        "      # _true_list += [random.randint(0, 52) for i in range(4)]\n",
        "      # _true_list += [random.randint(0, 52) for i in range(4)]\n",
        "      # _true_list += [random.randint(0, 132) for i in range(4)]\n",
        "      # _true_list += [random.randint(0, 24) for i in range(4)]\n",
        "      #******************************************************\n",
        "\n",
        "      _true = np.array(_true_list)\n",
        "      #len(true_list),len(predict)\n",
        "  \n",
        "      _choice_list = []\n",
        "      #_choice_list = random.sample(range(15), k=8)\n",
        "      _choice_list+=random.sample(range(0,4), k=2)\n",
        "      _choice_list+=random.sample(range(4,8), k=2)\n",
        "      _choice_list+=random.sample(range(8,12), k=2)\n",
        "      _choice_list+=random.sample(range(12,16), k=2)\n",
        "\n",
        "      _true_choice = []\n",
        "      _predict_choice = []\n",
        "      for _i in _choice_list:\n",
        "        _true_choice.append(_true[_i])\n",
        "        _predict_choice.append(predict[_i])\n",
        "\n",
        "      _score = round(score_cal(np.array(_true_choice),np.array(_predict_choice)),0)\n",
        "\n",
        "      if _score == sub_score:\n",
        "        _save_true_list = _true_list\n",
        "        _save_choice_list = _choice_list\n",
        "        #print('set_end',counter)\n",
        "        _summary = df_sub.join(pd.DataFrame(_save_true_list))\n",
        "        _summary_choice = _summary.iloc[_save_choice_list,:].sort_index()\n",
        "        _score_sum = _summary_choice.sum()[0]\n",
        "        _score_mean = _summary_choice.mean()[0]\n",
        "        _score_max = _summary_choice.max()[0]\n",
        "        break\n",
        "\n",
        "      _counter += 1\n",
        "\n",
        "    return _summary,_summary_choice,_score_sum,_score_mean,_score_max"
      ],
      "metadata": {
        "id": "7piHck-3hC2y"
      },
      "execution_count": 4,
      "outputs": []
    },
    {
      "cell_type": "code",
      "source": [
        "sub_a = pd.read_csv('/content/drive/MyDrive/AMP/submission/sub_a.csv')\n",
        "sub_b = pd.read_csv('/content/drive/MyDrive/AMP/submission/sub_b.csv')\n",
        "sub_c = pd.read_csv('/content/drive/MyDrive/AMP/submission/sub_c.csv')"
      ],
      "metadata": {
        "id": "1CiGXUiXN1LT"
      },
      "execution_count": 5,
      "outputs": []
    },
    {
      "cell_type": "code",
      "source": [
        "match_summary_a=pd.DataFrame()\n",
        "match_summary_b=pd.DataFrame()\n",
        "match_summary_choice_a = []\n",
        "match_summary_choice_b = []\n",
        "\n",
        "while True:\n",
        "  summary_a,summary_choice_a,sum_a,mean_a,max_a = search(sub_a,SUB_SCORE_A)\n",
        "  summary_b,summary_choice_b,sum_b,mean_b,max_b = search(sub_b,SUB_SCORE_B)\n",
        "\n",
        "  if (sum_a == sum_b) & (mean_a == mean_b) & (max_a == max_b): \n",
        "    print('1st sum:',sum_a)\n",
        "    for n in range(10000):\n",
        "      summary_c,summary_choice_c,sum_c,mean_c,max_c = search(sub_c,SUB_SCORE_C)\n",
        "      if (sum_a == sum_c) & (sum_a == mean_c) & (max_a == max_c): \n",
        "        print('2nd sum:',sum_c)\n",
        "        match_summary_a=summary_a\n",
        "        match_summary_b=summary_b\n",
        "        match_summary_c=summary_c\n",
        "        match_summary_choice_a=summary_choice_a\n",
        "        match_summary_choice_b=summary_choice_b\n",
        "        match_summary_choice_c=summary_choice_c\n",
        "        break\n",
        "    break\n",
        "\n",
        "display(match_summary_choice_a)\n",
        "display(match_summary_choice_b)\n",
        "display(match_summary_choice_c)"
      ],
      "metadata": {
        "colab": {
          "base_uri": "https://localhost:8080/"
        },
        "id": "xaFE-zBkeB2t",
        "outputId": "a948d1fc-23ac-414c-b918-214e51679de4"
      },
      "execution_count": 9,
      "outputs": [
        {
          "output_type": "execute_result",
          "data": {
            "text/plain": [
              "207"
            ]
          },
          "metadata": {},
          "execution_count": 9
        }
      ]
    },
    {
      "cell_type": "code",
      "source": [
        "#_choice_list = random.sample(range(15), k=8)\n",
        "\n",
        "_choice_list = []\n",
        "_choice_list.append(random.sample(range(0,4), k=2))\n",
        "_choice_list.append(random.sample(range(4,8), k=2))\n",
        "_choice_list.append(random.sample(range(8,12), k=2))\n",
        "_choice_list.append(random.sample(range(12,16), k=2))\n",
        "\n",
        "\n",
        "_choice_list\n",
        "\n",
        "_choice_list = []\n",
        "_choice_list+=random.sample(range(0,4), k=2)\n",
        "_choice_list+=random.sample(range(4,8), k=2)\n",
        "_choice_list+=random.sample(range(8,12), k=2)\n",
        "_choice_list+=random.sample(range(12,16), k=2)\n",
        "_choice_list"
      ],
      "metadata": {
        "id": "oPyHjH_W7cLc"
      },
      "execution_count": null,
      "outputs": []
    }
  ]
}